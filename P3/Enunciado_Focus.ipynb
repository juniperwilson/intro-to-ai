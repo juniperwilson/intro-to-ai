{
 "cells": [
  {
   "cell_type": "markdown",
   "id": "e5ae3fa3",
   "metadata": {},
   "source": [
    "# *Torneio Alfabeta Jogo Focus*\n",
    "## Introdução à Inteligência Artificial (2025-26)\n",
    "### Avaliação Contínua 3\n"
   ]
  },
  {
   "cell_type": "markdown",
   "id": "0050b6db",
   "metadata": {},
   "source": [
    "## O jogo Focus (Domination)\n",
    "\n",
    "O [Focus (ou Domination)](https://en.wikipedia.org/wiki/Focus_(board_game)), foi concebido por Sid Sackson e publicado pela primeira vez em 1963. É um jogo estratégico de empilhar peças num tabuleiro especial de forma octogonal.\n",
    "Cada jogador move pilhas de peças, controlando apenas as que têm a sua cor no topo.\n",
    "\n",
    "As pilhas deslocam-se na ortogonal tantas casas quanto o seu tamanho, podendo capturar peças adversárias ou guardar as suas na reserva quando se fundem pilhas e o resultado da fusão ultrapassa a altura de 5 peças. **Para facilitar, neste projeto vamos limitar essa altura a três peças e o tabuleiro será mais pequeno do que no jogo original**.\n",
    "\n",
    "\n",
    "Vence quem conseguir dominar o tabuleiro.\n",
    "\n",
    "<img src=\"focus4x4.png\" alt=\"Drawing\" style=\"width: 300px;\"/>"
   ]
  },
  {
   "cell_type": "markdown",
   "id": "8db7f82e",
   "metadata": {},
   "source": [
    "### Como funciona o jogo? \n",
    "\n",
    "O Focus pode ser jogado por 2 a 4 jogadores, mas neste caso vamos ter apenas dois jogadores. \n",
    "\n",
    "\n",
    "#### 1. Início do Jogo\n",
    "O tabuleiro da nossa versão do Focus tem a forma de um quadrado 4x4 com 4 extensões laterais de duas peças, formando um octógono.\n",
    "Cada casa válida contém uma única peça, e as peças são dispostas alternadamente entre as cores RED (vermelho) e GREEN (verde), conforme o padrão mostrado na imagem acima.\n",
    "\n",
    "Cada jogador controla as peças da sua cor:\n",
    "* O jogador RED começa a partida.\n",
    "* O jogador GREEN joga em seguida, alternando os turnos.\n",
    "\n",
    "Durante o jogo, cada jogador mantém dois contadores:\n",
    "* Reserva – peças próprias retiradas de pilhas demasiado grandes (podem ser recolocadas mais tarde).\n",
    "* Capturas – peças do adversário removidas do tabuleiro (são eliminadas definitivamente).\n",
    "\n",
    "#### 2. Jogada\n",
    "\n",
    "Em cada turno, o jogador cuja vez é de jogar tem duas opções:\n",
    "\n",
    "(A) Mover uma pilha \n",
    "* Pode mover qualquer pilha cujo topo seja da sua cor.\n",
    "\t* A pilha desloca-se em linha reta (horizontal ou vertical) um número de casas igual à quantidade de peças na pilha.\n",
    "\t* Se a casa de destino já contiver uma pilha, ambas são fundidas, colocando a pilha que se está a mover no topo da que está na casa de destino.\n",
    "\t* Se a nova pilha ultrapassar **três peças**, as peças em excesso são removidas, da parte inferior da pilha:\n",
    "\t    * As peças do próprio jogador vão para a sua reserva.\n",
    "\t    * As peças do adversário são capturadas.\n",
    "\n",
    "(B) Jogar uma peça da reserva\n",
    "* Em vez de mover uma pilha, o jogador pode colocar uma peça da sua reserva em qualquer casa do tabuleiro (incluindo no topo de uma pilha cuja peça do topo não seja a sua).\n",
    "* Esta ação é útil para recuperar controlo sobre pilhas dominadas pelo adversário.\n",
    "\n",
    "NOTA: uma peça única (não empilhada) é por si só um caso particular de uma pilha, cujo topo é a cor dessa mesma peça.\n",
    "\n",
    "#### 3. Fim do Jogo\n",
    "O jogo termina quando um dos jogadores não tem mais jogadas possíveis, ou seja:\n",
    "* não pode mover nenhuma pilha cujo topo seja da sua cor,\n",
    "* e não tem peças na reserva para colocar.\n",
    "\n",
    "O **vencedor** é o último jogador que ainda consegue realizar uma jogada válida.\n",
    "\n",
    "* Como o jogo pode tornar-se de longa duração, vamos assumir que se um limite máximo de jogadas for atingido (por exemplo, 250 jogadas), o jogo termina. Será o vencedor aquele que tiver um maior número de pilhas com a sua cor. Será empate se nesse momento ambos controlarem o mesmo número de pilhas."
   ]
  },
  {
   "cell_type": "markdown",
   "id": "81a96cc8",
   "metadata": {},
   "source": [
    "## Objetivos do projeto\n",
    "Pretende-se que, dada uma formulação e implementação do jogo, os grupos de alunos:\n",
    "<br><br>\n",
    "Criem um jogador, na forma de uma função de avaliação a ser usada pelo algoritmo alfabeta para qualquer profundidade, par ou ímpar. Aconselhamos que comecem por desenvolver um jogador simples para depois ser progressivamente melhorado, de modo a que tenham um jogador disponível na data de entrega limite. Desenvolvam e comparem o desempenho de vários jogadores, para diferentes limites de profundidade, e depois selecionem o melhor deles para entrega. Cada grupo só pode participar no torneio com um único jogador.\n",
    "<br><br>\n",
    "O jogador de cada grupo participará em torneios de todos contra todos, i.e., cada jogador irá jogar vários jogos contra os jogadores de todos os outros grupos, em diferentes níveis de profundidade. O nosso jogador também participará, o <span style=\"color:orange\"> ***Basicus***</span>.\n",
    "\n",
    "<img src=\"basicus.png\" alt=\"Drawing\" style=\"width: 200px;\"/>\n",
    "<br>\n",
    "(imagem gerada pelo GPT-5)\n",
    "\n",
    "\n",
    "\n",
    "O Basicus sabe as regras do jogo e pouco mais. Quando imagina um tabuleiro que resultaria de uma possível jogada, sabe verificar se esse tabuleiro só tem pilhas cujo topo é da mesma cor, o que significaria uma vitória (se essas pilhas forem dele) ou uma derrota (se forem do adversário). Também sabe que, se não existirem apenas pilhas cujo topo é da sua cor, a *maximização* desse número também é importante. O desempenho do Basicus é a *baseline* que devem ultrapassar de forma a obterem uma nota superior a 10 valores.\n"
   ]
  },
  {
   "cell_type": "markdown",
   "id": "78d377bf",
   "metadata": {},
   "source": [
    "## Formulação do Jogo Focus em Python\n",
    "\n",
    "Vamos descrever de modo sumário como está modelado o jogo Focus, através das classes `EstadoFocus` e `JogoFocus` que estão em `focus.py`."
   ]
  },
  {
   "cell_type": "markdown",
   "id": "fa23d02e",
   "metadata": {},
   "source": [
    "### O estado do jogo\n",
    "Na classe `EstadoFocus` temos cinco atributos principais:\n",
    "* `to_move`: Indica quem é o próximo a jogar (`'RED'` se for o jogador das peças vermelhas, `'GREEN'` se for o das peças verdes).\n",
    "* `board`: Uma representação do tabuleiro sob a forma de um dicionário que guarda a informação sobre a localização das pilhas no tabuleiro. As chaves são as posições $(linha,coluna)$ das casas ocupadas (sendo a primeira linha a de cima e a primeira coluna a da esquerda) e os valores correspondem a listas com valores das cores dos jogadores, ordenadas da base para o topo. As casas livres não são representadas no board. \n",
    "* `reserve`: Indica quantas peças cada jogador tem na sua reserva. A representação é feita através de um dicionário cujas chaves são os jogadores (`'RED'` or `'GREEN'`) e os valores o número de peças correspondentes.\n",
    "* `captured`: Indica quantas peças cada capturou do adversário. A representação é feita através de um dicionário cujas chaves são os jogadores (`'RED'` or `'GREEN'`) e os valores o número de peças correspondentes.\n",
    "* `n_jogadas`: Indica quantas jogadas foram feitas desde o início do jogo. Serve para determinar o final do jogo que esteja a ser longo (depois de 250 jogadas contam-se o número de pilhas controladas pelos jogadores e vence o que controlar mais pilhas, ou, se ambos tiverem o mesmo número de pilhas controladas, há um empate)."
   ]
  },
  {
   "cell_type": "markdown",
   "id": "f9634492",
   "metadata": {},
   "source": [
    "Temos também os métodos: \n",
    "\n",
    "* **`valid_positions()`** (*static*): Função que devolve o conjunto de posições válidas do tabuleiro do Jogo Focus (de acordo com a imagem do tabuleiro acima).\n",
    "\n",
    "* **`all_positions()`**: Devolve todas as posições possíveis do tabuleiro, sob a forma de lista de coordenadas `(x, y)`.\n",
    "\n",
    "* **`top_piece(pos)`**: Devolve a cor da peça que está no topo da pilha na posição dada ou `None` no caso da casa se encontrar vazia.\n",
    "\n",
    "* **`is_valid_position(pos)`**: Verifica se a posição faz parte do tabuleiro.\n",
    "\n",
    "* **`possible_moves()`**: Devolve uma lista de tuplos com todas as ações possíveis para o jogador que está a jogar. As ações podem ser de dois tipos:\n",
    "    - `((x, y), dir)` que representa a ação de mover uma pilha na posição `(x, y)` na direção `dir`. `dir` pode tomar os valores `'up'` (cima), `'down'` (baixo), `'left'` (esquerda) ou `'right'` (direita);\n",
    "    - `('reserve', (x, y))` que representa a ação de colocar no tabuleiro uma peça da reserva do jogador. A peça pode ser colocada em qualquer lugar, mesmo em cima de uma pilha que não seja controlada pelo jogador.\n",
    "\n",
    "* **`next_state(action)`**: Dada uma jogada (`action`), devolve o **novo estado do jogo** resultante.  \n",
    "  - Se a jogada for de movimentação `((x, y), dir)`, a peça avança na direção `dir` tantas casas quantas peças estiverem na pilha.  \n",
    "  - Se a jogada for de colocação de uma peça da reserva `('reserve', (x, y))`, a peça é colocada no topo da pilha da posição indicada.  \n",
    "  Retorna um novo objeto `EstadoFocus` com o tabuleiro, a reserva e captura atualizados, o jogador seguinte e o número de jogadas incrementado.\n",
    "\n",
    "* **`has_moves(player)`**: Verifica se o jogador `player` tem movimentos possíveis no tabuleiro atual.\n",
    "\n",
    "* **`winner()`**: Verifica se algum jogador venceu.  \n",
    "  Devolve `'RED'` ou `'GREEN'` se um dos jogadores tiver vencido o jogo, i.e., o oponente não tem jogadas possíveis. Caso contrário, devolve `None`.\n",
    "\n",
    "* **`other()`**: Devolve o oponente do jogador `to_move`.\n",
    "\n",
    "* **`who_dominate()`**: Devolve o jogador que domina todas as pilhas do tabuleiro, ou `None` caso nenhum domine todas.\n",
    "\n",
    "* **`dominate_piles(player)`**: Devolve o número de pilhas que têm o topo da cor do jogador `player`.\n",
    "\n",
    "* **`dominate_pieces(player)`**: Devolve o número total de peças controladas pelo jogador `player`, ou seja, todas as peças em pilhas cujo topo é do jogador.\n",
    "\n",
    "* **`display()`** : Mostra o **tabuleiro do jogo**. Cada posição é representada pelos caracteres `[  ]`. Entre eles são apresentadas as peças da base para o topo, i.e., o primeiro elemento da é a peça da base. Cada peça é representada por um carácter (`R` para *Red* e `G` para *Green*). As casas vazias são representadas vazias. Inclui também índices de linhas e colunas para facilitar a leitura."
   ]
  },
  {
   "cell_type": "markdown",
   "id": "1b93ce89",
   "metadata": {},
   "source": [
    "Vejamos agora alguns exemplos, após importarmos `focus.py`."
   ]
  },
  {
   "cell_type": "code",
   "execution_count": null,
   "id": "35ceff9e",
   "metadata": {},
   "outputs": [],
   "source": [
    "from focus import *"
   ]
  },
  {
   "cell_type": "markdown",
   "id": "caf04bf9",
   "metadata": {},
   "source": [
    "Criemos o estado inicial standard e observemos os seus atributos:"
   ]
  },
  {
   "cell_type": "code",
   "execution_count": null,
   "id": "804bdb19",
   "metadata": {},
   "outputs": [],
   "source": [
    "tabuleiro_inicial = criar_tabuleiro_inicial()\n",
    "estado_inicial = EstadoFocus(to_move='RED', board=tabuleiro_inicial, reserve={'RED':0,'GREEN':0},\n",
    "                           captured={'RED':0,'GREEN':0}, n_jogadas=0)\n",
    "print(\"Próximo jogador:\",estado_inicial.to_move)\n",
    "print(\"Tabuleiro:\",estado_inicial.board)\n",
    "print(\"Peças Vermelhas na Reserva:\",estado_inicial.reserve['RED'])\n",
    "print(\"Peças Verdes na Reserva:\",estado_inicial.reserve['GREEN'])\n",
    "print(\"Peças Vermelhas Capturadas:\",estado_inicial.reserve['RED'])\n",
    "print(\"Peças Verdes Capturadas:\",estado_inicial.reserve['GREEN'])\n",
    "print(\"No.Jogadas:\",estado_inicial.n_jogadas)"
   ]
  },
  {
   "cell_type": "markdown",
   "id": "e4fb11de",
   "metadata": {},
   "source": [
    "Agora observemos o tabuleiro em modo textual: "
   ]
  },
  {
   "cell_type": "code",
   "execution_count": null,
   "id": "80d1be34",
   "metadata": {},
   "outputs": [],
   "source": [
    "estado_inicial.display()"
   ]
  },
  {
   "cell_type": "markdown",
   "id": "5de00112",
   "metadata": {},
   "source": [
    "Vamos perguntar se temos um vencedor (obviamente que não):"
   ]
  },
  {
   "cell_type": "code",
   "execution_count": null,
   "id": "90a31f9f",
   "metadata": {},
   "outputs": [],
   "source": [
    "print(estado_inicial.winner())"
   ]
  },
  {
   "cell_type": "markdown",
   "id": "a20c5fcd",
   "metadata": {},
   "source": [
    "Vamos aplicar uma jogada e visualizar o tabuleiro resultante:"
   ]
  },
  {
   "cell_type": "code",
   "execution_count": null,
   "id": "8cbf440f",
   "metadata": {},
   "outputs": [],
   "source": [
    "estado_inicial.next_state(((1,3), 'up')).display()"
   ]
  },
  {
   "cell_type": "markdown",
   "id": "a6f661e8",
   "metadata": {},
   "source": [
    "### A classe `JogoFocus`, subclasse de `Game`\n",
    "A classe `JogoFocus` (em `focus.py`) é uma subclasse de `Game` (em `jogos.py`). \n",
    "\n",
    "O construtor gera o estado inicial do jogo com um tabuleiro resultado da função `criar_tabuleiro_inicial()` (ver imagem no início do enunciado), e o jogador 'RED' é o primeiro a jogar.\n",
    "\n",
    "Temos também os métodos habituais:\n",
    "* `actions`: Devolve a lista de ações possíveis (jogadas possíveis) para um determinado estado.\n",
    "* `result`: Devolve o estado que resulta da aplicação de uma ação (jogada) a um outro estado.\n",
    "* `terminal_test`: Verifica se o jogo acabou ou não.\n",
    "* `utility`: Devolve +1 se ganhou o jogador, -1 se ganhou o adversário, 0 se empataram.\n",
    "* `display`: Apresenta em modo de texto o estado do jogo, incluindo o tabuleiro e outras informações."
   ]
  },
  {
   "cell_type": "markdown",
   "id": "7b36f596",
   "metadata": {},
   "source": [
    "### Jogadores\n",
    "Em `jogos.py` temos vários tipos de jogadores e funções para correr jogos.\n",
    "\n",
    "#### O jogador aleatório\n",
    "O jogador aleatório escolhe ao acaso uma das jogadas possíveis.\n",
    "Vamos ver um jogo entre dois jogadores aleatórios:"
   ]
  },
  {
   "cell_type": "code",
   "execution_count": null,
   "id": "46950dc4",
   "metadata": {},
   "outputs": [],
   "source": [
    "from focus import *\n",
    "from jogos import *\n",
    "jogo = JogoFocus()\n",
    "jogo.jogar(random_player,random_player)"
   ]
  },
  {
   "cell_type": "markdown",
   "id": "a50c2c08",
   "metadata": {},
   "source": [
    "O score final é +1(-1) se RED ganhou(perdeu), ou 0 se empataram.\n",
    "Se quisermos correr um jogo vendo só os scores finais, podemos usar a função `jogar()` em modo não verboso:"
   ]
  },
  {
   "cell_type": "code",
   "execution_count": null,
   "id": "6281289a",
   "metadata": {},
   "outputs": [],
   "source": [
    "jogo=JogoFocus()\n",
    "jogo.jogar(random_player,random_player,verbose=False)"
   ]
  },
  {
   "cell_type": "markdown",
   "id": "46a40508",
   "metadata": {},
   "source": [
    "#### O jogador Alfabeta com profundidade limitada\n",
    "No nosso torneio, os jogadores vão sempre usar o algoritmo Alfabeta. No jogo Focus, não é viável desenvolver a árvore até ao fim, por isso vamos usar o Alfabeta com profundidade limitada (função `alphabeta_cutoff_search_new` definida em `jogos.py`). Esta função recebe um estado, um jogo, a profundidade de procura, e uma função de avaliação. É a função de avaliação de cada jogador que vai determinar o seu desempenho.\n",
    "\n",
    "Vamos equipar o jogador aleatório com uma função de avaliação. Ele continuará a escolher jogadas ao acaso, mas conseguirá reconhecer a situação em que o próximo jogador poderá ganhar o jogo (porque pode colocar/mover uma peça e dominar todas as pilhas). Quando é detetado o final iminente do jogo, a função de avaliação deve devolver `infinity`/`-infinity` para maximixar o número de cortes que a função `alphabeta_cutoff_search_new` faz."
   ]
  },
  {
   "cell_type": "code",
   "execution_count": null,
   "id": "73346e40",
   "metadata": {},
   "outputs": [],
   "source": [
    "def func_gameover(estado,jogador) :\n",
    "    clone=copy.deepcopy(estado) #boa prática de programação, para não arriscarem estragar o estado\n",
    "    winner = clone.winner()\n",
    "    if winner != None:\n",
    "        return infinity if winner==jogador else -infinity\n",
    "    return 0 #em qualquer outra situação que não seja vitória ou derrota\n",
    "\n",
    "def jogador_random_plus_1(jogo,estado) :\n",
    "    return alphabeta_cutoff_search_new(estado,jogo,1,eval_fn=func_gameover)\n",
    "    "
   ]
  },
  {
   "cell_type": "markdown",
   "id": "9a685155",
   "metadata": {},
   "source": [
    "Vejamos a vantagem que traz esta função de avaliação. Reparem que o `jogador_random_plus_1` joga com uma profundidade de procura 1. Quer isto dizer que a procura não vai além da jogada imediata; nem sequer olha para qualquer possível jogada do adversário. Vamos fazer 10 jogos entre o `jogador_random_plus_1` e o jogador aleatório que não reconhece o final do jogo. <br><br>\n",
    "Reportamos os scores resultantes de cada jogo, e no final a soma de todos os scores, que nos dá a pontuação do primeiro jogador, o `jogador_random_plus_1`. Esta pontuação será positiva(negativa) se o primeiro(segundo) jogador ganhou a maioria dos jogos, e será 0 se ambos os jogadores ganharem o mesmo número de jogos (ou se empatarem todos os jogos)."
   ]
  },
  {
   "cell_type": "code",
   "execution_count": null,
   "id": "c8fe1316",
   "metadata": {},
   "outputs": [],
   "source": [
    "pontuacao=0\n",
    "for i in range(10):\n",
    "    resultado = jogo.jogar(jogador_random_plus_1,random_player,verbose=False)\n",
    "    print(resultado)\n",
    "    pontuacao += resultado\n",
    "print('Pontuação do jogador_random_plus_1:',pontuacao)"
   ]
  },
  {
   "cell_type": "markdown",
   "id": "1d0baf40",
   "metadata": {},
   "source": [
    "Este jogador parece ser um bocadinho melhor do que o totalmente aleatório. Deverá ser ainda melhor com profundidades maiores. Vejamos os resultados finais obtido em 10 jogos a profundidades 1 a 5 (podem correr várias vezes, reparando como o tempo de execução aumenta com a profundidade):"
   ]
  },
  {
   "cell_type": "code",
   "execution_count": null,
   "id": "08084e09",
   "metadata": {},
   "outputs": [],
   "source": [
    "def jogador_random_plus_p(jogo,estado) :\n",
    "    return alphabeta_cutoff_search_new(estado,jogo,p,eval_fn=func_gameover)\n",
    "    \n",
    "for p in range(1,6):\n",
    "    def jogador_random_plus_p(jogo,estado) :\n",
    "        return alphabeta_cutoff_search_new(estado,jogo,p,eval_fn=func_gameover)\n",
    "    \n",
    "    print('Profundidade', p)\n",
    "    quem_ganhou=0\n",
    "    for i in range(10):\n",
    "        resultado = jogo.jogar(jogador_random_plus_p,random_player,verbose=False)\n",
    "        #print(resultado)\n",
    "        quem_ganhou += resultado\n",
    "    print(quem_ganhou)\n"
   ]
  },
  {
   "cell_type": "markdown",
   "id": "275c1c5a",
   "metadata": {},
   "source": [
    "### O Basicus\n",
    "Vamos agora definir a função de avaliação do nosso jogador <span style=\"color:orange\"> ***Basicus***</span>, chamada `func_basicus`. Como dito acima, o Basicus sabe reconhecer o final do jogo e sabe é importante dominar o máximo de pilhas."
   ]
  },
  {
   "cell_type": "code",
   "execution_count": null,
   "id": "fbafdedf",
   "metadata": {},
   "outputs": [],
   "source": [
    "def func_basicus(estado,jogador) :\n",
    "    clone = copy.deepcopy(estado)\n",
    "    winner = clone.winner()\n",
    "    \n",
    "    # --- Caso terminal ---\n",
    "    if winner is not None:\n",
    "        return infinity if winner == jogador else -infinity\n",
    "\n",
    "    my_pilhas = clone.dominate_piles(jogador)\n",
    "    opponent = 'GREEN' if jogador == 'RED' else 'RED'\n",
    "    opp_pilhas = clone.dominate_piles(opponent)\n",
    "    return my_pilhas - opp_pilhas\n"
   ]
  },
  {
   "cell_type": "markdown",
   "id": "f2710c1f",
   "metadata": {},
   "source": [
    "Vamos verificar como é que esta função de avaliação avalia alguns estados: "
   ]
  },
  {
   "cell_type": "code",
   "execution_count": null,
   "id": "bbd49da4",
   "metadata": {},
   "outputs": [],
   "source": [
    "board_1 = {\n",
    "    (0, 0): ['RED'],\n",
    "    (1, 0): ['GREEN'],\n",
    "    (0, 1): ['GREEN'],\n",
    "    (1, 1): ['RED'],\n",
    "}\n",
    "\n",
    "board_2 = {\n",
    "    (0, 0): ['RED', 'RED'],\n",
    "    (1, 0): ['RED'],\n",
    "    (0, 1): ['RED'],\n",
    "    (1, 1): ['RED'],\n",
    "}\n",
    "\n",
    "board_3 = {\n",
    "    (0, 0): ['RED'],\n",
    "    (1, 0): ['RED', 'GREEN', 'RED'],   \n",
    "    (0, 1): ['GREEN'],\n",
    "    (1, 1): ['RED'],\n",
    "}\n",
    "\n",
    "board_4 = {\n",
    "    (0, 0): ['GREEN'],\n",
    "    (1, 0): ['GREEN', 'RED', 'GREEN'],  \n",
    "    (0, 1): ['RED'],\n",
    "    (1, 1): ['GREEN'],\n",
    "}\n",
    "\n",
    "#para este efeito só interessa inicializar o coerentemente o tabuleiro\n",
    "est1=EstadoFocus('RED',board_1, {'RED':0, 'GREEN':0}, {'RED':0, 'GREEN':0}, 10) \n",
    "est2=EstadoFocus('RED',board_2,{'RED':0, 'GREEN':0}, {'RED':0, 'GREEN':0}, 10)\n",
    "est3=EstadoFocus('RED',board_3,{'RED':0, 'GREEN':0}, {'RED':0, 'GREEN':0}, 10)\n",
    "est4=EstadoFocus('RED',board_4,{'RED':0, 'GREEN':0}, {'RED':0, 'GREEN':0}, 10)\n",
    "\n",
    "jogo=JogoFocus()\n",
    "\n",
    "# Aqui ninguem ganhou e ambos dominam o mesmo número pilhas\n",
    "est1.display()\n",
    "print('Avaliação segundo',est1.to_move,': ',func_basicus(est1,est1.to_move))\n",
    "print('Avaliação segundo',est1.other(),': ',func_basicus(est1,est1.other()),'\\n\\n')\n",
    "\n",
    "# Aqui o RED ganhou\n",
    "est2.display()\n",
    "print('Avaliação segundo',est2.to_move,': ',func_basicus(est2,est2.to_move))\n",
    "print('Avaliação segundo',est2.other(),': ',func_basicus(est2,est2.other()),'\\n\\n')\n",
    "\n",
    "# Aqui o RED domina mais pilhas do que o GREEN\n",
    "est3.display()\n",
    "print('Avaliação segundo',est3.to_move,': ',func_basicus(est3,est3.to_move))\n",
    "print('Avaliação segundo',est3.other(),': ',func_basicus(est3,est3.other()),'\\n\\n')\n",
    "\n",
    "# Aqui o GREEN domina mais pilhas do que o RED\n",
    "est4.display()\n",
    "print('Avaliação segundo',est4.to_move,': ',func_basicus(est4,est4.to_move))\n",
    "print('Avaliação segundo',est4.other(),': ',func_basicus(est4,est4.other()),'\\n\\n')\n"
   ]
  },
  {
   "cell_type": "markdown",
   "id": "1023116a",
   "metadata": {},
   "source": [
    "Vamos definir o jogador <span style=\"color:orange\"> ***Basicus***</span> e ver qual o seu desempenho ao jogar com o jogador random_plus com profundidades de procura 1, 2, 3 e 4. Fazemos só 10 jogos com cada profundidade, para não demorar muito. Mostramos também o resultado de cada jogo, para além da pontuação final."
   ]
  },
  {
   "cell_type": "code",
   "execution_count": null,
   "id": "644664a8-1b80-4fca-a7b3-1008dbe5ef4f",
   "metadata": {},
   "outputs": [],
   "source": [
    "jogo=JogoFocus()\n",
    "\n",
    "def jogador_random_plus_p(jogo,estado) :\n",
    "    return alphabeta_cutoff_search_new(estado,jogo,p,eval_fn=func_gameover)\n",
    "\n",
    "def jogador_basicus_p(jogo,estado) :\n",
    "    return alphabeta_cutoff_search_new(estado,jogo,p,eval_fn=func_basicus)\n",
    "    "
   ]
  },
  {
   "cell_type": "code",
   "execution_count": null,
   "id": "fcd62073-ce68-4189-976c-32fd2a46f50e",
   "metadata": {},
   "outputs": [],
   "source": [
    "for p in range(1,5):\n",
    "    def jogador_random_plus_p(jogo,estado) :\n",
    "        return alphabeta_cutoff_search_new(estado,jogo,p,eval_fn=func_gameover)\n",
    "    def jogador_basicus_p(jogo,estado) :\n",
    "        return alphabeta_cutoff_search_new(estado,jogo,p,eval_fn=func_basicus)\n",
    "    \n",
    "    print('\\nProfundidade:',p)\n",
    "    pontuacao=0\n",
    "    for i in range(10):\n",
    "        resultado = jogo.jogar(jogador_basicus_p,jogador_random_plus_p,verbose=False)\n",
    "        # print(resultado)\n",
    "        pontuacao += resultado\n",
    "    print('Pontuação do Basicus:',pontuacao)"
   ]
  },
  {
   "cell_type": "markdown",
   "id": "45747165",
   "metadata": {},
   "source": [
    "Curiosamente, a estratégia do Basicus parece funcionar melhor a profundidades mais baixas e às vezes chega mesmo a perder contra o jogador aleatório. Podemos também correr um jogo com o utilizador humano. Atenção: o jogador humano deve indicar sempre uma das jogadas possíveis, caso contrário, o jogo não é válido. Tentem ganhar ao Basicus!"
   ]
  },
  {
   "cell_type": "code",
   "execution_count": null,
   "id": "2a2bfead",
   "metadata": {},
   "outputs": [],
   "source": [
    "jogo=JogoFocus()\n",
    "p=1\n",
    "# jogo.jogar(query_player,jogador_basicus_p) # descomentar para jogar"
   ]
  },
  {
   "cell_type": "markdown",
   "id": "303783f1",
   "metadata": {},
   "source": [
    "### Funções de avaliação compostas\n",
    "Obviamente que o Basicus, mesmo sendo melhor (em média) do que o jogador aleatório, não é lá grande jogador. Maximar o número de pilhas dominadas não lhe serve de muito se o adversário tiver liberdade para cobrir as suas pilhas na jogada seguinte. Para obterem um jogador melhor, poderão ter que combinar vários critérios na mesma função de avaliação! "
   ]
  },
  {
   "cell_type": "markdown",
   "id": "c0beac97",
   "metadata": {},
   "source": [
    "### N Pares de jogos\n",
    "Vejamos agora uma função que realiza $N$ pares de jogos entre dois jogadores - $N$ jogos com um deles a jogar primeiro, $N$ jogos com o outro a jogar primeiro. Devolve um tuplo com 4 elementos: o número de vitórias de cada um e de empates quando um deles joga primeiro; o número de vitórias de cada um e de empates quando o outro joga primeiro; o número total de vitórias de cada um e de empates; e finalmente o score de cada um. A pontuação depende da tabela de `scores`, que neste caso indica que a vitória vale $3$, a derrota $0$ e o empate $1$. É a mesma escala que iremos utilizar no torneio."
   ]
  },
  {
   "cell_type": "code",
   "execution_count": null,
   "id": "0b8943c8-d6e9-4f26-8730-fcb5d24a3080",
   "metadata": {},
   "outputs": [],
   "source": [
    "def jogador_basicus_1(jogo,estado) :\n",
    "    return alphabeta_cutoff_search_new(estado,jogo,1,eval_fn=func_basicus)"
   ]
  },
  {
   "cell_type": "code",
   "execution_count": null,
   "id": "9882996c",
   "metadata": {},
   "outputs": [],
   "source": [
    "# Dicionário global de pontuação\n",
    "SCORES = {'Vitoria': 3, 'Empate': 1}\n",
    "\n",
    "def traduz_pontos(tabela):\n",
    "    \"\"\"\n",
    "    Converte uma tabela de resultados (vitórias, empates) em pontuação.\n",
    "    \"\"\"\n",
    "    empates = tabela['Empate']\n",
    "    return {\n",
    "        jogador: SCORES['Vitoria'] * vitorias + SCORES['Empate'] * empates\n",
    "        for jogador, vitorias in tabela.items() if jogador != 'Empate'\n",
    "    }\n",
    "\n",
    "def joga_n_pares(jogo, n, jog1, jog2):\n",
    "    \"\"\"\n",
    "    Executa n pares de jogos entre jog1 e jog2 (ida e volta).\n",
    "    Retorna:\n",
    "      - tabelaPrim: resultados da primeira sequência (jog1 vs jog2)\n",
    "      - tabelaSeg: resultados da segunda sequência (jog2 vs jog1)\n",
    "      - tabela: soma das duas\n",
    "      - tabela_pontos: pontuação traduzida\n",
    "    \"\"\"\n",
    "    name_jog1, name_jog2 = jog1.__name__, jog2.__name__\n",
    "    inicial = {name_jog1: 0, name_jog2: 0, 'Empate': 0}\n",
    "    tabela_prim, tabela_seg = inicial.copy(), inicial.copy()\n",
    "\n",
    "    for _ in range(n):\n",
    "        # Jogo 1: jog1 vs jog2\n",
    "        vencedor = jogo.jogar(jog1, jog2, verbose=False)\n",
    "        if vencedor > 0:\n",
    "            tabela_prim[name_jog1] += 1\n",
    "        elif vencedor < 0:\n",
    "            tabela_prim[name_jog2] += 1\n",
    "        else:\n",
    "            tabela_prim['Empate'] += 1\n",
    "\n",
    "        # Jogo 2: jog2 vs jog1 (inverso)\n",
    "        vencedor = jogo.jogar(jog2, jog1, verbose=False)\n",
    "        if vencedor > 0:\n",
    "            tabela_seg[name_jog2] += 1\n",
    "        elif vencedor < 0:\n",
    "            tabela_seg[name_jog1] += 1\n",
    "        else:\n",
    "            tabela_seg['Empate'] += 1\n",
    "\n",
    "    tabela_total = {\n",
    "        chave: tabela_prim[chave] + tabela_seg[chave]\n",
    "        for chave in tabela_prim\n",
    "    }\n",
    "\n",
    "    return tabela_prim, tabela_seg, tabela_total, traduz_pontos(tabela_total)"
   ]
  },
  {
   "cell_type": "markdown",
   "id": "0164b148",
   "metadata": {},
   "source": [
    "Façamos 5 pares de jogos entre o `jogador_basicus_1` e o `jogador_random_plus_1` e vejamos a pontuação final:"
   ]
  },
  {
   "cell_type": "code",
   "execution_count": null,
   "id": "ce84371f",
   "metadata": {},
   "outputs": [],
   "source": [
    "jogo=JogoFocus()\n",
    "joga_n_pares(jogo, 5, jogador_basicus_1, jogador_random_plus_1)"
   ]
  },
  {
   "cell_type": "markdown",
   "id": "d36a4f07",
   "metadata": {},
   "source": [
    "### Torneio entre vários jogadores\n",
    "Eis a função que realiza um torneio entre vários jogadores, em que cada um realiza um número $N$ de jogos contra todos os outros como primeiro jogador, e $N$ como segundo jogador:"
   ]
  },
  {
   "cell_type": "code",
   "execution_count": 1,
   "id": "d7dec86f",
   "metadata": {},
   "outputs": [],
   "source": [
    "def incorpora(tabela, nova_tabela):\n",
    "    \"\"\"\n",
    "    Soma os valores de 'nova_tabela' à tabela principal.\n",
    "    \"\"\"\n",
    "    for jogador, pontos in nova_tabela.items():\n",
    "        tabela[jogador] = tabela.get(jogador, 0) + pontos\n",
    "\n",
    "\n",
    "def torneio(n, jogadores, jogo):\n",
    "    \"\"\"\n",
    "    Executa um torneio round-robin entre os jogadores fornecidos.\n",
    "\n",
    "    Parâmetros:\n",
    "        n (int): número de pares de jogos (ida e volta) entre cada dupla.\n",
    "        jogadores (list): lista de funções/jogadores.\n",
    "        jogo (obj): jogo (ex: JogoFocus).\n",
    "\n",
    "    Retorna:\n",
    "        dict: tabela final ordenada por pontuação.\n",
    "    \"\"\"\n",
    "    tabela = {}\n",
    "\n",
    "    for i, jog1 in enumerate(jogadores[:-1]):\n",
    "        for jog2 in jogadores[i+1:]:\n",
    "            print(f\"{jog1.__name__} VS {jog2.__name__}\")\n",
    "            _, _, _, tabela_parcial = joga_n_pares(jogo, n, jog1, jog2)\n",
    "            incorpora(tabela, tabela_parcial)\n",
    "\n",
    "    tabela_final = dict(sorted(tabela.items(), key=lambda x: x[1], reverse=True))\n",
    "\n",
    "    print(\"\\n🏆 Classificação Final 🏆\")\n",
    "    for pos, (jogador, pontos) in enumerate(tabela_final.items(), start=1):\n",
    "        print(f\"{pos:>2}. {jogador:<15} {pontos:>4} pontos\")\n",
    "\n",
    "    return tabela_final"
   ]
  },
  {
   "cell_type": "markdown",
   "id": "dc4becf4",
   "metadata": {},
   "source": [
    "Fazemos agora um torneio com três dos jogadores que definimos até agora, com 5 pares de jogos entre eles.<br> Os resultados são apresentados do melhor para o pior jogador:"
   ]
  },
  {
   "cell_type": "code",
   "execution_count": null,
   "id": "938f1410",
   "metadata": {},
   "outputs": [],
   "source": [
    "torneio(5,[jogador_basicus_1, jogador_random_plus_1, random_player], JogoFocus())"
   ]
  },
  {
   "cell_type": "markdown",
   "id": "b9505084",
   "metadata": {},
   "source": [
    "E pronto, agora divirtam-se a derrotar o Basicus!\n",
    "\n",
    "<img src=\"basicus.png\" alt=\"Drawing\" style=\"width: 200px;\"/>\n",
    "<br>\n",
    "(imagem gerada pelo GPT-5)"
   ]
  },
  {
   "cell_type": "markdown",
   "id": "d2cda714",
   "metadata": {},
   "source": [
    "## Material a entregar\n",
    "Devem entregar um ficheiro **Focus_proj_grupoXX.py** (em que XX é o número do grupo registado no moodle), com o código da vossa função de avaliação e todas as funções auxiliares que criarem.\n",
    "\n",
    "<span style=\"color:red\"> **Não alterem**</span> `focus.py`, `utils.py` nem `jogos.py` e **não devem submetê-los!**\n",
    "<br><span style=\"color:red\">**Não redefinam**</span> funções com o mesmo nome das já existentes nestes ficheiros.\n",
    "\n",
    "A função de avaliação do vosso jogador deverá ter assinatura **`func_XX(estado,jogador)`** (substituindo XX pelo número do grupo) e deve devolver o valor estimado do `estado` na perspectiva do `jogador`. Não precisam de definir o vosso jogador, pois seremos nós a defini-lo com diferentes profundidades durante a execução do campeonato.\n",
    "\n",
    "**Todas** as vossas funções devem ter o sufixo **_XX** (substituindo XX pelo número do grupo), para que não se partilhe nem se sobreponha código durante a avaliação."
   ]
  },
  {
   "cell_type": "markdown",
   "id": "c645df9b",
   "metadata": {},
   "source": [
    "## Avaliação\n",
    "A nota do vosso projecto depende da pontuação final obtida no torneio *múltiplo*. \n",
    "   \n",
    "**Torneios**: Cada jogador irá participar em torneios contra todos os outros, fazendo pelo menos dois jogos (um como primeiro jogador, outro como segundo jogador) contra cada um dos outros jogadores em cada torneio. Faremos torneios a diferentes profundidades, pelo menos profundidade 3 e profundidade 4. Se o tempo de execução o permitir, faremos mais jogos por torneio, e mais torneios a profundidades maiores. Caso o tempo de execução se torne mesmo problemático, poderemos ter de baixar o número máximo de jogadas para 100.\n",
    "\n",
    "**Pontuação**: Nos torneios, vamos sempre incluir o nosso jogador <span style=\"color:orange\"> ***Basicus***</span>. A pontuação obtida por cada grupo em cada torneio será a *soma dos pontos obtidos em todos os jogos* (em que cada vitória vale 3, cada empate vale 1, e cada derrota vale 0). A pontuação final será a soma das pontuações obtidas em todos os torneios.\n",
    "\n",
    "**Nota**: Quem obtiver a mesma pontuação final que o <span style=\"color:orange\"> ***Basicus***</span>, terá 10 valores. Quem tiver uma pontuação inferior ao Basicus terá nota menor do que 10. A nota será resultado da aplicação de uma função linear baseada na pontuação obtida, tanto acima do Basicus como para baixo. O grupo que ficar em primeiro lugar no torneio (naturalmente, acima do Basicus), terá 20 valores.\n",
    "\n",
    "**Clones**: Qualquer jogador que use a mesma estratégia do <span style=\"color:orange\"> ***Basicus***</span> ou de outro jogador definido no enunciado será desclassificado e a sua nota final será 0. Jogadores que sejam cópias uns dos outros também serão desclassificados. \n",
    "\n",
    "**Timeout**: Se um jogador ultrapassar o tempo limite para uma jogada, será também desclassificado. Usaremos bom senso para definir o que é o tempo considerado como limite: será o tempo acima do qual a execução do torneio fica comprometida.\n",
    "\n",
    "**Ficheiros**: Se um grupo entregar ficheiros que não seguem as regras definidas acima (nomeadamente, no que respeita aos sufixos nos nomes das funções), sofrerá uma penalização na nota proporcional ao tempo necessário para resolver a situação. No limite, não será possível a sua participação no torneio e a nota será 0."
   ]
  },
  {
   "cell_type": "code",
   "execution_count": null,
   "id": "5eee86af-1c5e-40f1-89fa-8ab783564507",
   "metadata": {},
   "outputs": [],
   "source": []
  }
 ],
 "metadata": {
  "kernelspec": {
   "display_name": "Python 3 (ipykernel)",
   "language": "python",
   "name": "python3"
  },
  "language_info": {
   "codemirror_mode": {
    "name": "ipython",
    "version": 3
   },
   "file_extension": ".py",
   "mimetype": "text/x-python",
   "name": "python",
   "nbconvert_exporter": "python",
   "pygments_lexer": "ipython3",
   "version": "3.13.1"
  }
 },
 "nbformat": 4,
 "nbformat_minor": 5
}
